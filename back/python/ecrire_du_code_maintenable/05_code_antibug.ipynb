{
 "cells": [
  {
   "cell_type": "markdown",
   "metadata": {},
   "source": [
    "# Code antibug\n",
    "\n",
    "Recommendation de la PEP:\n",
    "\n",
    "## Generer des retours cohérents "
   ]
  },
  {
   "cell_type": "code",
   "execution_count": null,
   "metadata": {},
   "outputs": [],
   "source": [
    "def confusing_division(top, bottom):\n",
    "    if bottom == 0:\n",
    "        return False\n",
    "    if top != 0:\n",
    "        if top % bottom == 0:\n",
    "            return top / bottom\n",
    "        return \"La division n’est pas entière !\""
   ]
  },
  {
   "cell_type": "markdown",
   "metadata": {},
   "source": [
    "Dans l'exemple ci-dessus, la fonction de division peut retourner 4 type de retour : \n",
    "- un booléen,\n",
    "- un nombre, \n",
    "- une chaine de caractère \n",
    "- None, si top est égal à 0, et qu'aucune instruction `return`n'est rencontrée. \n",
    "\n",
    "\n",
    "Les recommendations : \n",
    "\n",
    "- Soit toutes les instructions `return`retournent une valeur, soit aucune ne le fait. \n",
    "- Tous les types de retours doivent être les mêmes (sauf s'il y a une très bonne raison de faire autrement...)\n",
    "- Utiliser `return None`plutôt que `return` nu.\n",
    "\n",
    "La même fonction peut être réécrite comme suit : "
   ]
  },
  {
   "cell_type": "code",
   "execution_count": null,
   "metadata": {},
   "outputs": [],
   "source": [
    "def less_confusing_division(top, bottom):\n",
    "    \"\"\"Divise \"top\" par \"bottom\".\"\"\"\n",
    "    if bottom == 0 or top == 0:\n",
    "        return None\n",
    " \n",
    "    if top % bottom != 0:\n",
    "        return None\n",
    " \n",
    "    return top / bottom"
   ]
  },
  {
   "cell_type": "markdown",
   "metadata": {},
   "source": [
    "Maintenant le code qui fait appelle à cette fonction sait qu'il recevra soit un nombre, soit None. Et on pourrait ecrire : "
   ]
  },
  {
   "cell_type": "code",
   "execution_count": null,
   "metadata": {},
   "outputs": [],
   "source": [
    "if less_confusing_division(7, 3) is not None:\n",
    "    # fait quelque chose\n",
    "else:\n",
    "    # fait autre chose"
   ]
  },
  {
   "cell_type": "markdown",
   "metadata": {},
   "source": [
    "## Ecrire des chaines cohérentes \n",
    "\n",
    "Voici un code simple : "
   ]
  },
  {
   "cell_type": "code",
   "execution_count": null,
   "metadata": {},
   "outputs": [],
   "source": [
    "phone_number = \"0123456789\"\n",
    "if phone_number[:3] == \"012\":\n",
    "    print(\"Yes!\")"
   ]
  },
  {
   "cell_type": "markdown",
   "metadata": {},
   "source": [
    "Mais que ce passe-t-il si on veut maintenant verifier si le numéro commence par \"1234\" \n",
    "\n",
    "Dans la cas précédent, il faut se souvenir qu'il faut également changer la longueur de la tranche et passer de 3 à 5. \n",
    "\n",
    "Détail simple à oublier surtout si la chaine de comparaison se trouve ailleurs : "
   ]
  },
  {
   "cell_type": "code",
   "execution_count": null,
   "metadata": {},
   "outputs": [],
   "source": [
    "phone_number = \"0123456789\"\n",
    "if phone_number[:5] == MY_START_PHONE_NUMBER:\n",
    "    print(\"Yes!\")"
   ]
  },
  {
   "cell_type": "markdown",
   "metadata": {},
   "source": [
    "Python est très bon pour donner des solutions faciles à des problèmes courants. Ici on peut utiliser la fonction `str.startswith`qui fait exactement ce que l'on veut : "
   ]
  },
  {
   "cell_type": "code",
   "execution_count": null,
   "metadata": {},
   "outputs": [],
   "source": [
    "if phone_number.startswith(MY_START_PHONE_NUMBER):\n",
    "    print(\"Of course!\")"
   ]
  },
  {
   "cell_type": "markdown",
   "metadata": {},
   "source": [
    "C'est cette méthode qu'il est recommendé d'utiliser. \n",
    "\n",
    "D'autre méthodes existe comme `str.endswith`\n",
    "\n",
    "Connaitre les méthodes des types de base comme les strings permet d'écrire du code bien plus lisible et \"pythonique\""
   ]
  },
  {
   "cell_type": "markdown",
   "metadata": {},
   "source": [
    "## Simplifier les exceptions\n",
    "\n",
    "Objectif : code sans erreur, une façon facile de le faire est d'utiliser les blocs try-except \n",
    "\n",
    "- Le bloc try doit couvrir le moins de code possible, pour éviter de masquer d'autres bugs \n",
    "\n",
    "- Ne pas utiliser la clause `except` nue, au risque de passer sous silence des erreurs critiques, et on interferre avec les exceptions `keyboardInterrupt`et `SystemExit`, qui servent à arrêter le programme. Elle doit donc attrapper qu'un seul type d'exception. "
   ]
  },
  {
   "cell_type": "markdown",
   "metadata": {},
   "source": []
  }
 ],
 "metadata": {
  "language_info": {
   "name": "python"
  },
  "orig_nbformat": 4
 },
 "nbformat": 4,
 "nbformat_minor": 2
}
