{
 "cells": [
  {
   "cell_type": "markdown",
   "metadata": {},
   "source": [
    "# Comprendre le code \n",
    "\n",
    "Le code est plus souvent lu qu'ecrit. Le code doit donc être lisible facilment par les autres développeurs et le nous du futur. \n",
    "\n",
    "Exemple : sur un projet on tombe sur la fonction suivante, que fait-elle ? Est-ce qu'on peut l'utiliser ?"
   ]
  },
  {
   "cell_type": "code",
   "execution_count": null,
   "metadata": {},
   "outputs": [],
   "source": [
    "def adjustment(value):\n",
    "    return (value % 4 == 0) and (value % 100 != 0 or value % 400 == 0)"
   ]
  },
  {
   "cell_type": "markdown",
   "metadata": {},
   "source": [
    "Le nom de la fonction n'est pas explicite. On ne comprend pas ce que fait la fonction. Au contraire, si on se trouve devant la fonction suivante, on comprend tout de suite à quoi elle sert : \n"
   ]
  },
  {
   "cell_type": "code",
   "execution_count": null,
   "metadata": {},
   "outputs": [],
   "source": [
    "def is_leap_year(year):\n",
    "    # Les années bissextiles sont toutes des multiples de 4\n",
    "    if year % 4 != 0:\n",
    "        return False\n",
    " \n",
    "    # Les années séculaires ne sont pas bissextiles, hormis 1600, 2000, 2400, etc.\n",
    "    if year % 100 == 0:\n",
    "        return year % 400 == 0\n",
    " \n",
    "    # Tous les autres résultats sont vrais.\n",
    "    return True"
   ]
  },
  {
   "cell_type": "markdown",
   "metadata": {},
   "source": [
    "## Le guide de style PEP 8: \n",
    "\n",
    "\n",
    "PEP signifie ***Python Enhancement Proposal*** (proposition d'amélioration de python)\n",
    "\n",
    "Les PEP sont des documents de conception pour la communauté Python. \n",
    "\n",
    "Le PEP qui sert de guide style et le PEP 8. On peut utiliser un outil (le Linter) qui peut verifier pour nous si notre code respecte la PEP 8. "
   ]
  }
 ],
 "metadata": {
  "kernelspec": {
   "display_name": "Python 3.8.13 64-bit",
   "language": "python",
   "name": "python3"
  },
  "language_info": {
   "codemirror_mode": {
    "name": "ipython",
    "version": 3
   },
   "file_extension": ".py",
   "mimetype": "text/x-python",
   "name": "python",
   "nbconvert_exporter": "python",
   "pygments_lexer": "ipython3",
   "version": "3.8.13"
  },
  "orig_nbformat": 4,
  "vscode": {
   "interpreter": {
    "hash": "7e85ec9bf098c5427e45e2f632dcd4eeff803b007e1abd287d600879388709c1"
   }
  }
 },
 "nbformat": 4,
 "nbformat_minor": 2
}
