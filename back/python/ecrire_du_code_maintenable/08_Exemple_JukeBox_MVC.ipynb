{
 "cells": [
  {
   "cell_type": "markdown",
   "metadata": {},
   "source": [
    "# Exemple Juke-Box en Python en MVC"
   ]
  },
  {
   "cell_type": "markdown",
   "metadata": {},
   "source": [
    "## Le Modèle : \n",
    "\n",
    "Informations relatives à l'état sont cnservés dans les classes du modèle. Il y a des choses à stocker sur du long terme, comme la bibliothèque de chansons, et d'illustrations, la liste des tarifs, date de passge du technicien. "
   ]
  },
  {
   "cell_type": "code",
   "execution_count": null,
   "metadata": {},
   "outputs": [],
   "source": [
    "PRICE_PER_SONG = 1.20\n",
    " \n",
    "\n",
    "class Song:\n",
    "    \"\"\"Modèle représentant un son.\"\"\"\n",
    " \n",
    "    def __init__(self, name, artist, genre, artwork):\n",
    "        \"\"\"Initialise les détails relatifs au son.\"\"\"\n",
    "        self.artist = artist\n",
    "        self.name = name\n",
    "        self.genre = genre\n",
    "        self.artwork = artwork\n",
    " \n",
    "\n",
    "class Library:\n",
    "    \"\"\"Modèle qui stocke les sons.\"\"\"\n",
    " \n",
    "    def __init__(self):\n",
    "        \"\"\"Initialise une liste de sons.\"\"\"\n",
    "        self.songs = []\n",
    " \n",
    "\n",
    "class ServiceInfo:\n",
    "    \"\"\"Modèle qui gère la maintenance de la jukebox.\"\"\"\n",
    "\n",
    "    def __init__(self, status, engineer_name):\n",
    "        \"\"\"Initialise les détails du service.\"\"\"\n",
    "        self.service_date = datetime.now()\n",
    "        self.status = status\n",
    "        self.engineer = engineer_name"
   ]
  },
  {
   "cell_type": "markdown",
   "metadata": {},
   "source": [
    "## La Vue \n",
    "\n",
    "C'est l'interface avec l'utilisateur. C'est cette partie qui est la plus sujette à évolution. Pour un Juke-box de base il faut : Un écran pour selectionner la musique, une fente pour inserer une pièce et des haut-parleurs pour jouer la musique. "
   ]
  },
  {
   "cell_type": "code",
   "execution_count": null,
   "metadata": {},
   "outputs": [],
   "source": [
    "class Touchscreen:\n",
    "    \"\"\"Vue qui gère l'interface de la jukebox.\"\"\"\n",
    " \n",
    "    def select_song(self):\n",
    "        \"\"\"Sélectionne un son.\"\"\"\n",
    "        pass\n",
    " \n",
    "    def prompt_for_next_song(self, songs):\n",
    "        \"\"\"Demande un nouveau son.\"\"\"\n",
    "        for song in songs:\n",
    "            # affiche les sons\n",
    "            pass\n",
    "        return \"Dark Chest of Wonders\"\n",
    " \n",
    " \n",
    "class Speakers:\n",
    "    \"\"\"Vue qui gère le son.\"\"\"\n",
    " \n",
    "    def __init__(self):\n",
    "        \"\"\"Initialise le volume.\"\"\"\n",
    "        self.volume = 5\n",
    " \n",
    "    def get_louder(self):\n",
    "        \"\"\"Augmente le volume.\"\"\"\n",
    "        self.volume += 1\n",
    " \n",
    "    def get_quieter(self):\n",
    "        \"\"\"Baisse le volume.\"\"\"\n",
    "        self.volume -= 1\n",
    " \n",
    "    def play_song(self, song):\n",
    "        \"\"\"Joue la musique.\"\"\"\n",
    "        pass\n",
    " \n",
    " \n",
    "class CoinSlot:\n",
    "    \"\"\"Vue qui gère la reception de l'argent.\"\"\"\n",
    " \n",
    "    def __init__(self, amount):\n",
    "        \"\"\"Initialise le montant.\"\"\"\n",
    "        self.amount = amount\n",
    " \n",
    "    def request_money(self, amount):\n",
    "        \"\"\"Attend un montant de l'utilisateur.\"\"\"\n",
    "        # attend l'argent\n",
    "        # donne le change\n",
    "        self.amount += amount\n",
    "        return True"
   ]
  },
  {
   "cell_type": "markdown",
   "metadata": {},
   "source": [
    "Le nom \"vue\" est un nom générique qui désigne tous les composants du système en interface avec l'utilisateur. Elle peut désigner de simple output en console, une application, une page web ou un retour de requests API. "
   ]
  },
  {
   "cell_type": "markdown",
   "metadata": {},
   "source": [
    "## Le controleur : \n",
    "\n",
    "C'est dans le contrôleur que le flux de l'application est géré. Tout le séquençage des nteractions entre l'utilisateur et le système s'y trouve. \n",
    "\n",
    "Dans le Juke-box cela inclue : \n",
    "\n",
    "- la logique de séléction des chansons d'après le catalogue que l'on peut consulter\n",
    "- la logique qui attend que l'on paye avant de passer de la musique \n",
    "- système pour appeler le technicien "
   ]
  },
  {
   "cell_type": "code",
   "execution_count": null,
   "metadata": {},
   "outputs": [],
   "source": [
    "class Controller:\n",
    "    \"\"\"Contrôleur principal.\"\"\"\n",
    " \n",
    "    def __init__(self):\n",
    "        \"\"\"Initialise les modèles et les vues.\"\"\"\n",
    "        self.bank = CoinBox()\n",
    "        self.library = Library()\n",
    "        self.service_history = []\n",
    " \n",
    "        self.ui = Touchscreen()\n",
    "        self.audio_output = Speakers()\n",
    " \n",
    "    def play_next_song(self):\n",
    "        \"\"\"Joue le prochain son.\"\"\"\n",
    "        songs_to_suggest = []\n",
    "        for song in self.library:\n",
    "            # filter logic\n",
    "            songs_to_suggest.append(song)\n",
    " \n",
    "        chosen_song = self.ui.prompt_for_next_song(songs_to_suggest)\n",
    "        request_money(PRICE_PER_SONG)\n",
    "        self.audio_output.play_song(chosen_song)\n",
    " \n",
    "    # Beaucoup plus de méthodes ici..."
   ]
  },
  {
   "cell_type": "markdown",
   "metadata": {},
   "source": [
    "## Les avantages du MVC : \n",
    "\n",
    "POur mettre à jour la liste de chansons dispo, il suffit de mettre à jour le modèle. Si on veut ajouter des écouteur sans fil, on modifie la vue. \n",
    "\n",
    "Cette architecture rend le système beaucoup plus facile à : \n",
    "- comprendre \n",
    "- modifier \n",
    "- tester\n",
    "- réparer"
   ]
  }
 ],
 "metadata": {
  "language_info": {
   "name": "python"
  },
  "orig_nbformat": 4
 },
 "nbformat": 4,
 "nbformat_minor": 2
}
