{
 "cells": [
  {
   "cell_type": "markdown",
   "metadata": {},
   "source": [
    "# Code lisible "
   ]
  },
  {
   "cell_type": "markdown",
   "metadata": {},
   "source": [
    "## Coérence d'indentation \n",
    "\n",
    "Utiliser les 4 espaces pour indenter, afin d'éviter les erreurs inattendues lorsqu'un développeur copie du code "
   ]
  },
  {
   "cell_type": "markdown",
   "metadata": {},
   "source": [
    "## Mettre des espaces \n",
    "\n",
    "Pour faciliter la lecture il est recommendé \n",
    "- de mettre des espaces avant et après les opérateurs \n",
    "- Ne pas mettre d'espaces juste après une parenthèse ou un crochet\n",
    "- Ne pas laisser de blanc entre une fonction et ses arguments : print()\n",
    "- laisser un éspace entre if et toutes parenthèses. Idem pour le for."
   ]
  },
  {
   "cell_type": "markdown",
   "metadata": {},
   "source": [
    "## Le saut de ligne\n",
    "\n",
    "A utilisé avec modération. Comme pour les paragraphes d'un livre, regrouper les lignes de code qui vont ensemble, mais en dehors de ce cas, ne pas sauter de lignes. \n",
    "\n",
    "- Sauter deux lignes avant la définition d'une fonction ou d'une class. \n",
    "\n",
    "- Sauter une seule ligne avant la définition d'une méthode. "
   ]
  },
  {
   "cell_type": "markdown",
   "metadata": {},
   "source": [
    "## Limiter la longueur des lignes \n",
    "\n",
    "Limiter la taille d'une ligne à 79 caractères. \n",
    "\n",
    "Cette règle est un peu strict de nos jours. Les écrans sont de plus en plus grands. Mais reste de rigueur si on travail sur la bibliothèque standard de Python. \n",
    "\n",
    "### Ecrire les expression sur plusieurs lignes \n"
   ]
  },
  {
   "cell_type": "code",
   "execution_count": null,
   "metadata": {},
   "outputs": [],
   "source": [
    "# Aligne les paramètres sur la verticale\n",
    "def function_with_a_rather_long_name(parameter_number_1, parameter_number_2,\n",
    "                                     parameter_number_3):\n",
    "    my_function(parameter_number_1)\n",
    "    return parameter_number_2"
   ]
  },
  {
   "cell_type": "code",
   "execution_count": null,
   "metadata": {},
   "outputs": [],
   "source": [
    "# Même chose, mais avec un paramètre par ligne\n",
    "def function_with_a_rather_long_name(parameter_number_1,\n",
    "                                     parameter_number_2,\n",
    "                                     parameter_number_3):\n",
    "    my_function(parameter_number_1)\n",
    "    return parameter_number_2"
   ]
  },
  {
   "cell_type": "code",
   "execution_count": null,
   "metadata": {},
   "outputs": [],
   "source": [
    "# Un paramètre par ligne, et la parenthèse au même niveau d’indentation que la fonction\n",
    "def function_with_a_rather_long_name(\n",
    "    parameter_number_1,\n",
    "    parameter_number_2,\n",
    "    Parameter_number_3\n",
    "):\n",
    "    my_function(parameter_number_1)\n",
    "    return parameter_number_2"
   ]
  },
  {
   "cell_type": "markdown",
   "metadata": {},
   "source": [
    "Pour la gestion des chaines de caractères trop longues, l'astuce est d'utiliser des parenthèses : "
   ]
  },
  {
   "cell_type": "code",
   "execution_count": 2,
   "metadata": {},
   "outputs": [
    {
     "name": "stdout",
     "output_type": "stream",
     "text": [
      "erfzfefrzvterbytnrezrtvbytyruetrgtrthzeergvzreafz'((-'eg'((yhvgbrz'trvytrhzerbetrtzbrtyezegbyebzrtbrebrtberbtrgzevrebtniukoy;i;yu,yt,trntehtrgegretr\n"
     ]
    }
   ],
   "source": [
    "super_long_password = (\n",
    "    \"erfzfefrzvterbytnrezrtvbytyruetrgtrth\"\n",
    "    \"zeergvzreafz'((-'eg'((yhvgbrz'trvytrh\"\n",
    "    \"zerbetrtzbrtyezegbyebzrtbrebrtberbtrg\"\n",
    "    \"zevrebtniukoy;i;yu,yt,trntehtrgegretr\"\n",
    ")\n",
    "\n",
    "print(super_long_password)"
   ]
  },
  {
   "cell_type": "markdown",
   "metadata": {},
   "source": [
    "Les différetes chaines comprise entre les parenthèses vont se recoller lors de l'execution du code. "
   ]
  },
  {
   "cell_type": "markdown",
   "metadata": {},
   "source": [
    "# Organisation des fichiers \n",
    "\n",
    "1. Les commentaires qui concernent la totalité du fichier vont en haut \n",
    "2. Les import suivent cet ordre: \n",
    "    1. Modules de la bibliothèque standard, par exemple `import random`\n",
    "    2. Modules de bibliothèques tierces: `import sklearn`\n",
    "    3. Modules locaux: `import mymodule`\n",
    "3. Les constantes: `MY_CONSTANT = 77`\n",
    "4. Tout autre code \n",
    " "
   ]
  },
  {
   "cell_type": "code",
   "execution_count": null,
   "metadata": {},
   "outputs": [],
   "source": []
  }
 ],
 "metadata": {
  "kernelspec": {
   "display_name": "Python 3.8.13 64-bit",
   "language": "python",
   "name": "python3"
  },
  "language_info": {
   "codemirror_mode": {
    "name": "ipython",
    "version": 3
   },
   "file_extension": ".py",
   "mimetype": "text/x-python",
   "name": "python",
   "nbconvert_exporter": "python",
   "pygments_lexer": "ipython3",
   "version": "3.8.13"
  },
  "orig_nbformat": 4,
  "vscode": {
   "interpreter": {
    "hash": "7e85ec9bf098c5427e45e2f632dcd4eeff803b007e1abd287d600879388709c1"
   }
  }
 },
 "nbformat": 4,
 "nbformat_minor": 2
}
