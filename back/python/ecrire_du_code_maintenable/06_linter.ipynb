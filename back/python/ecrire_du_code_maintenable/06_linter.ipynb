{
 "cells": [
  {
   "cell_type": "markdown",
   "metadata": {},
   "source": [
    "# Le linter \n",
    "\n",
    "Permet de garder un code propre, comme un correcteur orthographique sur un éditeur de texte. "
   ]
  },
  {
   "cell_type": "markdown",
   "metadata": {},
   "source": [
    "## Utiliser un linter \n",
    "\n",
    "Il existe des linters en ligne gratuits, comme PEP8 online. \n",
    "\n",
    "Un des linter les plus connus est `Flake8`, une bibliothèque Python à installer. \n",
    "\n",
    "Un autoformateur populaire est la bibliothèque Black.\n",
    "\n"
   ]
  }
 ],
 "metadata": {
  "language_info": {
   "name": "python"
  },
  "orig_nbformat": 4
 },
 "nbformat": 4,
 "nbformat_minor": 2
}
