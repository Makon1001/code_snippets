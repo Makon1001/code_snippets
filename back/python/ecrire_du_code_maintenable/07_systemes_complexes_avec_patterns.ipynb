{
 "cells": [
  {
   "cell_type": "markdown",
   "metadata": {},
   "source": [
    "# Construire des systèmes complexes à l'aide de patterns\n",
    "\n",
    "\n",
    "En développement, il ne faut pas réinventer la roue. On va utiliser les connaissances amassées au file des années pour résoudre les problèmes courants, en utilisant les design patterns. \n",
    "\n",
    "\n",
    "Un design pattern, aussi nommé `patron de conception`ou `modèle de conception`en français, est une solution éprouvée et réutilisable à un problème qui se produit fréquemment. \n",
    "Il décrit la nature statique ou dynamique des classes et objets qui implémentent la solution. \n",
    "\n",
    "On est libre de personnaliser la solution du Design Patterne pour l'adapter à notre situation spécifique. \n",
    "\n",
    "\n",
    "Il en existe d'autres, mais les trois que l'on abordera seront : \n",
    "\n",
    "- **Le design pattern Constant** : Ce pattern très simple facilite la mise à jour des valeurs dans le code\n",
    "\n",
    "- **Le design pattern Décorateur** (Decorator) : pattern de complexité modérée facilite la création de nombreuses fonctions qui accomplissent des choses similaires\n",
    "\n",
    "- **Le pattern Modèle-Vue-Contrôler** (MVC: Model-View-Control) : ce pattern constitue une architecture d'application dans son ensemble, facilitant la fiabilité des interactions des utilisateurs avec le système.\n"
   ]
  },
  {
   "cell_type": "markdown",
   "metadata": {},
   "source": [
    "## Le design pattern Constant\n",
    "\n",
    "Permet d'éviter le code plein de nombres non expliqués. \n",
    "\n",
    "- Identifier tout nombre (ou autre variable) qui est utilisé à plusieurs emplacements, ou dont la signification n'est pas claire. \n",
    "\n",
    "- Déclarer sa valeur en tant que variable globale (dans la portée du module), avec un nom clair, même si nous n'avons pas l'intention de la changer. Par exemple : number_of_guests = 2\n",
    "\n",
    "- Ces valeurs constantes seront souvent utilisées par plusieurs fonctions, classes, fichiers au sein d'un projet, donc d'après la PEP8, elles devraient être définies vers le haut du fichier en majuscules, par exemple : NUMBER_OF_GUESTS = 2\n",
    "\n",
    "- Reformuler toutes les déclarations qui reposent sur ce nombre en utilisant la nouvelle valeur constante. \n",
    "\n",
    "- Si on veut passer de 2 invités à 15, il suffit de modifier la valeur de NUMBER_OF_GUESTS = 15 pour que le bon comportement s'applique partout.\n",
    "\n",
    "\n",
    "\n",
    "\n",
    "Le design pattern Constant permet de supprimer les nombre magiques (nombre mal documentés) et faire de la documentation. Le code devient plus lisible et facilite les mise-à-jour ulterieurs. Permet de mettre de mots sur des valeurs brutes. NUMBER_OF_MONTHS sera toujours plus clair que 12. \n",
    "\n",
    "Permet également de s'assurer qu'on utilisa la même valeur. Par exemple, la valeur de Pi peut être 3.14 ou 3.14159265 ou 3.1415. Si on défini une constante MATH_PI = 3.1415 on s'assure d'avoir à chaque utilisation la même valeur dans le programme et évitons les comportement étranges.\n",
    "\n",
    "warning : Une bonne constante est immuable. Elle ne doit pas être modifiée une fois le programme lancé. Evite les effets de bord"
   ]
  },
  {
   "cell_type": "markdown",
   "metadata": {},
   "source": [
    "## Design pattern Décorateur \n",
    "\n",
    "\n",
    "Permet d'éviter la redondance de code, lorsque des fonctions qui effectue sensiblement la même choses se répètes. \n",
    "\n",
    "Une fonction décorateur attend une autre fonction en paramètre, et retourne une variable décorée de cette fonction en retour. \n",
    "\n",
    "Le décorateur n'est qu'un modificateur de fonction. Il va la transformer pour rajouter des choses avant et après. \n",
    "\n",
    "Exemple : "
   ]
  },
  {
   "cell_type": "code",
   "execution_count": null,
   "metadata": {},
   "outputs": [],
   "source": [
    "def decorate_function(function):\n",
    "    \"\"\"Cette fonction va générer le décorateur.\"\"\"\n",
    " \n",
    "    def wrapper():\n",
    "        \"\"\"Voici le \"vrai\" décorateur.\n",
    " \n",
    "        C'est ici que l'on change la fonction de base\n",
    "        en rajoutant des choses avant et après.\n",
    "        \"\"\"\n",
    "        print(\"Do something at the start\")\n",
    " \n",
    "        result = function()\n",
    " \n",
    "        print(\"Do something at the end\")\n",
    " \n",
    "        return result\n",
    " \n",
    "    return wrapper\n",
    " \n",
    " \n",
    "def travelling_through_the_stars():\n",
    "    \"\"\"Voyage à travers les étoiles.\"\"\"\n",
    "    print(\"C'est parti pour un long voyage !\")\n",
    " \n",
    " \n",
    "# ici, nous allons récupérer le retour de \"decorate_function\",\n",
    "# qui n'est autre que la fonction \"wrapper\" !\n",
    "# Notez que nous pouvons très bien renommer une fonction en\n",
    "# l'assignant dans une nouvelle variable (ici \"wrapper\" devient \"decorated\").\n",
    "decorated = decorate_function(travelling_through_the_stars)\n",
    "decorated()  # nous executons la fonction \"wrapper\""
   ]
  },
  {
   "cell_type": "markdown",
   "metadata": {},
   "source": [
    "L'une des conséquence regrettables des décorateurs, c'est que nous devons créer une fonction, puis la redéfinir avec le décorateur. Il serait préférable de pouvoir tout faire en même temps. \n",
    "\n",
    "C'est possible grace à une syntaxe spécifique qui nous simplifie la vie : "
   ]
  },
  {
   "cell_type": "code",
   "execution_count": null,
   "metadata": {},
   "outputs": [],
   "source": [
    "def decorate_function(function):\n",
    "    \"\"\"Cette fonction va générer le décorateur.\"\"\"\n",
    " \n",
    "    def wrapper():\n",
    "        \"\"\"Le \"vrai\" décorateur.\"\"\"\n",
    "        print(\"Do something at the start\")\n",
    "        result = function()\n",
    "        print(\"Do something at the end\")\n",
    "        return result\n",
    "\n",
    "    wrapper.__doc__ = function.__doc__\n",
    "    return wrapper\n",
    " \n",
    " \n",
    "@decorate_function  # c'est ici que ça se passe !\n",
    "def travelling_through_the_stars():\n",
    "    \"\"\"Voyage à travers les étoiles.\"\"\"\n",
    "    print(\"C'est parti pour un long voyage !\")\n",
    " \n",
    " \n",
    "# la fonction est directement décorée, et s'utilise comme telle, comme si rien\n",
    "# comme si rien n'avait changé ! ;)\n",
    "travelling_through_the_stars()"
   ]
  },
  {
   "cell_type": "markdown",
   "metadata": {},
   "source": [
    "La syntaxe `@decorate_function`dit à l'interpréteur Python que cette fonction doit être décorée avec la fonction `decorate_function`. Il va executer la fonction décorateur et passer la fonction `travelling_through_the_stars`en paramètre. "
   ]
  },
  {
   "cell_type": "markdown",
   "metadata": {},
   "source": [
    "Imaginons que notre code soit long à s'executer et l'on veut pouvoir ajouter des fonctionnalité de chronométrage et de logging pour nous aider à trouver quelle partie s'execute lentement. \n",
    "\n",
    "Néanmoins on ne veut pas modifier directement la fonction pour ce genre de test. C'est là que les décorateurs entrent en jeu : ils permettent de garder le code de la fonction propre, et spécifique à une tâche seulement. \n",
    "\n",
    "On peut donc créer un décorateur qui démarre et arrête un chronomètre, et logue le résultat à l'écran ou dans un fichier. \n",
    "\n",
    "Puis pour chaque fonction à tester, on peut simplement ajouter le décorateur @my_time_decorator sur la ligne qui précède. "
   ]
  },
  {
   "cell_type": "code",
   "execution_count": 2,
   "metadata": {},
   "outputs": [
    {
     "name": "stdout",
     "output_type": "stream",
     "text": [
      "Calcul en cours...\n",
      "Calcul terminé !\n",
      "secondes passées: 3.00\n"
     ]
    }
   ],
   "source": [
    "from time import time, sleep\n",
    " \n",
    "\n",
    "def calculate_time_spent(function):\n",
    "    \"\"\"calcule le temps que met une fonction à s'executer.\"\"\"\n",
    " \n",
    "    # notez *args et **kwargs. Ce sont des paramètres dynamiques\n",
    "    # qui permet au décorateur de s'adapter à tout type de fonction !\n",
    "    # N'hésitez pas à vous documenter sur l'unpacking pour en apprendre\n",
    "    # davantage.\n",
    "    def wrapper(*args, **kwargs):\n",
    "        \"\"\"Décore la fonction avec un calcul du temps.\"\"\"\n",
    "        # retourne le temps en secondes depuis le 01/01/1970.\n",
    "        # On appelle cela le temps \"epoch\".\n",
    "        start = time()\n",
    "\n",
    "        result = function()\n",
    "\n",
    "        # mettez ici votre code. Il s'agit de faire la différence entre\n",
    "        # 2 temps \"epochs\", celui qui est gardé dans \"start\", et celui qui\n",
    "        # sera gardé dans votre variable 'end'. ;)\n",
    "        end = time()\n",
    "        time_spent = end - start\n",
    "        print(f\"secondes passées: {time_spent:.2f}\")\n",
    " \n",
    "        return result\n",
    " \n",
    "    return wrapper\n",
    " \n",
    "\n",
    "# n'oubliez pas de décorer la fonction !\n",
    "@calculate_time_spent\n",
    "def calculate_the_trajectory():\n",
    "    \"\"\"Calcule la trajectoire du vaisseau.\"\"\"\n",
    "    print(\"Calcul en cours...\")\n",
    "    sleep(3)  # on met le programme en pause pendant 3 secondes !\n",
    "    print(\"Calcul terminé !\")\n",
    " \n",
    "\n",
    "calculate_the_trajectory()"
   ]
  },
  {
   "cell_type": "markdown",
   "metadata": {},
   "source": [
    "## Le design d'architecture MVC:\n",
    "\n",
    "Le MVC est une approche d'architecture de logiciel. Il divise les responsabilités du système en 3 parties distinctes : \n",
    "\n",
    "- **Modèle** : Le modèle continet les informations relatives à l'état du système. Ce sont les fonctionnalités brutes de l'application. \n",
    "\n",
    "- **Vue** : La vue représente les informations du modèle à l'utilisateur. Elle sert d'interface visuelle et/ou sonor pour l'utilisateur. \n",
    "\n",
    "- **Contrôleur** : Le contrôleur garantit que les commandes utilisateurs soient executées correctement, modifiant les objets du modèle appropriés, et mettant à jour l'application. C'est finalement les rouages de l'application, et c'est la couche qui apporte une interaction avec l'utilisateur. \n"
   ]
  }
 ],
 "metadata": {
  "kernelspec": {
   "display_name": "Python 3.8.13 64-bit",
   "language": "python",
   "name": "python3"
  },
  "language_info": {
   "codemirror_mode": {
    "name": "ipython",
    "version": 3
   },
   "file_extension": ".py",
   "mimetype": "text/x-python",
   "name": "python",
   "nbconvert_exporter": "python",
   "pygments_lexer": "ipython3",
   "version": "3.8.13"
  },
  "orig_nbformat": 4,
  "vscode": {
   "interpreter": {
    "hash": "7e85ec9bf098c5427e45e2f632dcd4eeff803b007e1abd287d600879388709c1"
   }
  }
 },
 "nbformat": 4,
 "nbformat_minor": 2
}
