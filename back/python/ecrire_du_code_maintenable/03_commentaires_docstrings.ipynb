{
 "cells": [
  {
   "cell_type": "markdown",
   "metadata": {},
   "source": [
    "# Les commentaires : \n",
    "\n",
    "Il est utile de laisser un commentaire pour expliquer les parties de code qui ne sont pas immédiatemment évidentes, mais pas polluer du code facilement compréhensible\n",
    "\n",
    "- Ecrire des phrases complètes en anglais\n",
    "- Eviter les commentaires qui contredisent le code\n",
    "\n",
    "- Mettre les commentaires à jour lorsuqe le code change \n",
    "- Eviter les commentaires sur la même ligne que le code, ils font négligé\n",
    "- Mettre un seul espace entre le symbole dièse et le text\n",
    "- Utiliser le même niveau d'indentation que la ligne de code qui suit, pour garder une bonne lisibilité\n"
   ]
  },
  {
   "cell_type": "markdown",
   "metadata": {},
   "source": [
    "# Utiliser les chaines de documentation (docstring)"
   ]
  },
  {
   "cell_type": "code",
   "execution_count": 1,
   "metadata": {},
   "outputs": [
    {
     "name": "stdout",
     "output_type": "stream",
     "text": [
      "1001\n",
      "Multiplie deux nombres.\n",
      " \n",
      "    Args:\n",
      "        first -- le multiplicande\n",
      "        second -- le multiplicateur (défaut 1)\n",
      "    \n"
     ]
    }
   ],
   "source": [
    "def multiply(first, second=1):\n",
    "    \"\"\"Multiplie deux nombres.\n",
    " \n",
    "    Args:\n",
    "        first -- le multiplicande\n",
    "        second -- le multiplicateur (défaut 1)\n",
    "    \"\"\"\n",
    "    return first * second\n",
    " \n",
    "print(multiply(13, 77))\n",
    "print(multiply.__doc__)"
   ]
  },
  {
   "cell_type": "markdown",
   "metadata": {},
   "source": [
    "Le texte entre la série de trois guillemet est une docstring\n",
    "\n",
    "Permet de documenter une fonction, une class, un module et d'être récupéré par des outils afin de construire une documentation en ligne. \n",
    "\n",
    "Les docstrings en début de fonction ou en début de class sont spéciales, et on peut y accéder en tuilisant l'attribut `__doc__`"
   ]
  },
  {
   "cell_type": "code",
   "execution_count": 2,
   "metadata": {},
   "outputs": [
    {
     "name": "stdout",
     "output_type": "stream",
     "text": [
      "Multiplie deux nombres.\n",
      " \n",
      "    Args:\n",
      "        first -- le multiplicande\n",
      "        second -- le multiplicateur (défaut 1)\n",
      "    \n"
     ]
    }
   ],
   "source": [
    "print(multiply.__doc__)"
   ]
  },
  {
   "cell_type": "markdown",
   "metadata": {},
   "source": [
    "Selon la PEP 257, il est bon d'utiliser les doctrings partout. \n",
    "\n",
    "Apporte une couche de documentation, gain calitatif et une aide dans le projet. \n",
    "\n",
    "On peut ne pas en mettre dans les methodes privées des classes. \n",
    "\n",
    "\n",
    "En python, contrairement à d'autres langages, rine n'est vraimeent privé. Mais on peut préfixer nos methodes d'un `undersocre` pour dire qu'elles sont privées. Ce n'est qu'une convention de nommage. "
   ]
  },
  {
   "cell_type": "markdown",
   "metadata": {},
   "source": [
    "Les doctrings c'est aussi savoir expliquer son code, et donc prendre du recule sur notre façon de coder, et éviter des bugs. \n",
    "\n",
    "Les docstrings ne servent pas à explique le fonctionnement du code, mais juste le retour, les paramètres attendus, les excptions. C-à-dire comment on peut utiliser la fonction/méthode/class"
   ]
  },
  {
   "cell_type": "code",
   "execution_count": null,
   "metadata": {},
   "outputs": [],
   "source": [
    "def search_film(name):\n",
    "  \"\"\"Chercher un film suivant un nom donnée.\n",
    "  \n",
    "  Attrs:\n",
    "  - name (str): Le nom utilisé pour la recherche.\n",
    "\n",
    "  Returns:\n",
    "  - un objet film si un film a été trouvé, ou None\n",
    "  \"\"\"\n",
    "  films = Film.filter_by_name(name)\n",
    "  if films:\n",
    "    return films.pop(0)\n",
    "  return None"
   ]
  }
 ],
 "metadata": {
  "kernelspec": {
   "display_name": "Python 3.8.13 64-bit",
   "language": "python",
   "name": "python3"
  },
  "language_info": {
   "codemirror_mode": {
    "name": "ipython",
    "version": 3
   },
   "file_extension": ".py",
   "mimetype": "text/x-python",
   "name": "python",
   "nbconvert_exporter": "python",
   "pygments_lexer": "ipython3",
   "version": "3.8.13"
  },
  "orig_nbformat": 4,
  "vscode": {
   "interpreter": {
    "hash": "7e85ec9bf098c5427e45e2f632dcd4eeff803b007e1abd287d600879388709c1"
   }
  }
 },
 "nbformat": 4,
 "nbformat_minor": 2
}
