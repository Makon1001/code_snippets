{
 "cells": [
  {
   "cell_type": "markdown",
   "metadata": {},
   "source": [
    "# Les principes SOLID\n",
    "\n",
    "Chacune des lettres de l'acrinyme SOLID représente une excellente idée à garder à l'ésprit lorsque l'on construit une architecture système. \n",
    "\n",
    "- S : la résponsabillité unique (\"Single responsibility\")\n",
    "    Chaque classe ou fonction doit faire une seule chose, et le faire bien. Elle ne doit avoir qu'une seule raison de changer. \n",
    "\n",
    "- O : Le principe ouvert/fermé (\"Open/closed\")\n",
    "    Les classes doivent être ouvertes à l'extension, mais fermées à la modification. Càd, il doit être facile d'ajouter un nouveau concept au système en étendant la fonctionnalité d'origine, sans dupliquer tout un tas de code. \n",
    "\n",
    "- L : La substitution de Liskov \n",
    "    Les sous-classes doivent pouvoir faire tout ce que font leurs classes parentes. Si on remplace une classe parete par l'une de ses sous-classes, cela ne doit pas casser le système. \n",
    "\n",
    "- I : La ségrégation des interfaces (\"Interface segregation\")\n",
    "    Correspond au principe de responsabilité unique, appliqué aux interfaces\n",
    "\n",
    "- D : L'inversion de dépendances : (\"Dependency Inversion\")\n",
    "    Les classes parentes ne doivent pas avoir à changer lorsuqe l'une de leurs sous-classes est modifiée. \n",
    "\n",
    "    "
   ]
  }
 ],
 "metadata": {
  "language_info": {
   "name": "python"
  },
  "orig_nbformat": 4
 },
 "nbformat": 4,
 "nbformat_minor": 2
}
