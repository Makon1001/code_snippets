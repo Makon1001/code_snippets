{
 "cells": [
  {
   "cell_type": "markdown",
   "metadata": {},
   "source": [
    "# Les boucles "
   ]
  },
  {
   "cell_type": "markdown",
   "metadata": {},
   "source": [
    "## La boucle for : \n",
    "\n",
    "Dans le code suivant la variable chien se met à jour avec chaque valeur de la liste. On aurait pu appeler cette variable autremment ça marche aussi "
   ]
  },
  {
   "cell_type": "code",
   "execution_count": 1,
   "metadata": {},
   "outputs": [
    {
     "name": "stdout",
     "output_type": "stream",
     "text": [
      "golden retriever\n",
      "chihuahua\n",
      "terrier\n",
      "carlin\n"
     ]
    }
   ],
   "source": [
    "races_de_chien = [\"golden retriever\", \"chihuahua\", \"terrier\", \"carlin\"]\n",
    "for chien in races_de_chien:\n",
    "  print(chien)"
   ]
  },
  {
   "cell_type": "markdown",
   "metadata": {},
   "source": [
    "## La fonction range()\n",
    "\n",
    "cette fonction retourne une iste de nombre, allant de 0 au nombre défini -1. "
   ]
  },
  {
   "cell_type": "code",
   "execution_count": 2,
   "metadata": {},
   "outputs": [
    {
     "name": "stdout",
     "output_type": "stream",
     "text": [
      "0\n",
      "1\n",
      "2\n",
      "3\n",
      "4\n"
     ]
    }
   ],
   "source": [
    "for x in range(5):\n",
    "  print(x)"
   ]
  },
  {
   "cell_type": "markdown",
   "metadata": {},
   "source": [
    "`f`, signifie format, permet de remplacer x par toutes ces valeurs : "
   ]
  },
  {
   "cell_type": "code",
   "execution_count": 3,
   "metadata": {},
   "outputs": [
    {
     "name": "stdout",
     "output_type": "stream",
     "text": [
      "0 bouteilles de bières au mur !\n",
      "1 bouteilles de bières au mur !\n",
      "2 bouteilles de bières au mur !\n",
      "3 bouteilles de bières au mur !\n",
      "4 bouteilles de bières au mur !\n",
      "5 bouteilles de bières au mur !\n",
      "6 bouteilles de bières au mur !\n",
      "7 bouteilles de bières au mur !\n",
      "8 bouteilles de bières au mur !\n",
      "9 bouteilles de bières au mur !\n",
      "10 bouteilles de bières au mur !\n",
      "11 bouteilles de bières au mur !\n",
      "12 bouteilles de bières au mur !\n",
      "13 bouteilles de bières au mur !\n",
      "14 bouteilles de bières au mur !\n",
      "15 bouteilles de bières au mur !\n",
      "16 bouteilles de bières au mur !\n",
      "17 bouteilles de bières au mur !\n",
      "18 bouteilles de bières au mur !\n",
      "19 bouteilles de bières au mur !\n",
      "20 bouteilles de bières au mur !\n",
      "21 bouteilles de bières au mur !\n",
      "22 bouteilles de bières au mur !\n",
      "23 bouteilles de bières au mur !\n",
      "24 bouteilles de bières au mur !\n",
      "25 bouteilles de bières au mur !\n",
      "26 bouteilles de bières au mur !\n",
      "27 bouteilles de bières au mur !\n",
      "28 bouteilles de bières au mur !\n",
      "29 bouteilles de bières au mur !\n",
      "30 bouteilles de bières au mur !\n",
      "31 bouteilles de bières au mur !\n",
      "32 bouteilles de bières au mur !\n",
      "33 bouteilles de bières au mur !\n",
      "34 bouteilles de bières au mur !\n",
      "35 bouteilles de bières au mur !\n",
      "36 bouteilles de bières au mur !\n",
      "37 bouteilles de bières au mur !\n",
      "38 bouteilles de bières au mur !\n",
      "39 bouteilles de bières au mur !\n",
      "40 bouteilles de bières au mur !\n",
      "41 bouteilles de bières au mur !\n",
      "42 bouteilles de bières au mur !\n",
      "43 bouteilles de bières au mur !\n",
      "44 bouteilles de bières au mur !\n",
      "45 bouteilles de bières au mur !\n",
      "46 bouteilles de bières au mur !\n",
      "47 bouteilles de bières au mur !\n",
      "48 bouteilles de bières au mur !\n",
      "49 bouteilles de bières au mur !\n",
      "50 bouteilles de bières au mur !\n",
      "51 bouteilles de bières au mur !\n",
      "52 bouteilles de bières au mur !\n",
      "53 bouteilles de bières au mur !\n",
      "54 bouteilles de bières au mur !\n",
      "55 bouteilles de bières au mur !\n",
      "56 bouteilles de bières au mur !\n",
      "57 bouteilles de bières au mur !\n",
      "58 bouteilles de bières au mur !\n",
      "59 bouteilles de bières au mur !\n",
      "60 bouteilles de bières au mur !\n",
      "61 bouteilles de bières au mur !\n",
      "62 bouteilles de bières au mur !\n",
      "63 bouteilles de bières au mur !\n",
      "64 bouteilles de bières au mur !\n",
      "65 bouteilles de bières au mur !\n",
      "66 bouteilles de bières au mur !\n",
      "67 bouteilles de bières au mur !\n",
      "68 bouteilles de bières au mur !\n",
      "69 bouteilles de bières au mur !\n",
      "70 bouteilles de bières au mur !\n",
      "71 bouteilles de bières au mur !\n",
      "72 bouteilles de bières au mur !\n",
      "73 bouteilles de bières au mur !\n",
      "74 bouteilles de bières au mur !\n",
      "75 bouteilles de bières au mur !\n",
      "76 bouteilles de bières au mur !\n",
      "77 bouteilles de bières au mur !\n",
      "78 bouteilles de bières au mur !\n",
      "79 bouteilles de bières au mur !\n",
      "80 bouteilles de bières au mur !\n",
      "81 bouteilles de bières au mur !\n",
      "82 bouteilles de bières au mur !\n",
      "83 bouteilles de bières au mur !\n",
      "84 bouteilles de bières au mur !\n",
      "85 bouteilles de bières au mur !\n",
      "86 bouteilles de bières au mur !\n",
      "87 bouteilles de bières au mur !\n",
      "88 bouteilles de bières au mur !\n",
      "89 bouteilles de bières au mur !\n",
      "90 bouteilles de bières au mur !\n",
      "91 bouteilles de bières au mur !\n",
      "92 bouteilles de bières au mur !\n",
      "93 bouteilles de bières au mur !\n",
      "94 bouteilles de bières au mur !\n",
      "95 bouteilles de bières au mur !\n",
      "96 bouteilles de bières au mur !\n",
      "97 bouteilles de bières au mur !\n",
      "98 bouteilles de bières au mur !\n",
      "99 bouteilles de bières au mur !\n"
     ]
    }
   ],
   "source": [
    "for x in range(100):\n",
    "  print(f\"{x} bouteilles de bières au mur !\")\n"
   ]
  },
  {
   "cell_type": "markdown",
   "metadata": {},
   "source": [
    "On peut faire commencer range par une autre valeur que 0 : ici on va de 4 à 9 "
   ]
  },
  {
   "cell_type": "code",
   "execution_count": 4,
   "metadata": {},
   "outputs": [
    {
     "name": "stdout",
     "output_type": "stream",
     "text": [
      "4\n",
      "5\n",
      "6\n",
      "7\n",
      "8\n",
      "9\n"
     ]
    }
   ],
   "source": [
    "for x in range(4, 10):\n",
    "  print(x)"
   ]
  },
  {
   "cell_type": "markdown",
   "metadata": {},
   "source": [
    "## La boucle while : \n",
    "\n",
    "Executer une boucle \"jusqu'à\" ce qu'une certaine condition soit remplie"
   ]
  },
  {
   "cell_type": "code",
   "execution_count": 6,
   "metadata": {},
   "outputs": [
    {
     "name": "stdout",
     "output_type": "stream",
     "text": [
      "10\n"
     ]
    }
   ],
   "source": [
    "capacite_maximale = 10\n",
    "capacite_actuelle = 3\n",
    "while capacite_actuelle < capacite_maximale:\n",
    "  capacite_actuelle += 1\n",
    "\n",
    "print(capacite_actuelle)"
   ]
  },
  {
   "cell_type": "markdown",
   "metadata": {},
   "source": [
    "Attention aux boucles infinies : Ici sans la condition if, la valeur de x ne sera jamais égale à 5, ce qui constitue une boucle infinie "
   ]
  },
  {
   "cell_type": "code",
   "execution_count": 8,
   "metadata": {},
   "outputs": [],
   "source": [
    "x = 0\n",
    "while x != 5:\n",
    "  x += 2\n",
    "  if x > 5:\n",
    "    x = 5"
   ]
  }
 ],
 "metadata": {
  "kernelspec": {
   "display_name": "Python 3.8.13 64-bit",
   "language": "python",
   "name": "python3"
  },
  "language_info": {
   "codemirror_mode": {
    "name": "ipython",
    "version": 3
   },
   "file_extension": ".py",
   "mimetype": "text/x-python",
   "name": "python",
   "nbconvert_exporter": "python",
   "pygments_lexer": "ipython3",
   "version": "3.8.13"
  },
  "orig_nbformat": 4,
  "vscode": {
   "interpreter": {
    "hash": "7e85ec9bf098c5427e45e2f632dcd4eeff803b007e1abd287d600879388709c1"
   }
  }
 },
 "nbformat": 4,
 "nbformat_minor": 2
}
