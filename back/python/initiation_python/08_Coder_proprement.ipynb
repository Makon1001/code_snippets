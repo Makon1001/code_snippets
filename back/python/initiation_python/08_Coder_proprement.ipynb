{
 "cells": [
  {
   "cell_type": "markdown",
   "metadata": {},
   "source": [
    "# Coder proprement \n",
    "\n",
    "Pour s'y retrouver dans un code long, ou sur lequel on n'a pas travaillé depuis longtemps, il est indipensable d'avoir une rigueur d'implémentation, une façon structurée de coder. \n",
    "\n",
    "Imaginer reprendre le code d'un collègue sans structure, une perde de temps concidérable pour essayer de comprendre ce qu'il se passe etc ... "
   ]
  },
  {
   "cell_type": "markdown",
   "metadata": {},
   "source": [
    "## DRY \n",
    "\n",
    "Don't repeat yoursel. \n",
    "\n",
    "Si on répète souvent des lignes de codes, c'est qu'on peut les isoler et en faire une fonction, ou une class \n",
    "\n"
   ]
  },
  {
   "cell_type": "code",
   "execution_count": 1,
   "metadata": {},
   "outputs": [
    {
     "ename": "NameError",
     "evalue": "name 'premiere_campagne' is not defined",
     "output_type": "error",
     "traceback": [
      "\u001b[0;31m---------------------------------------------------------------------------\u001b[0m",
      "\u001b[0;31mNameError\u001b[0m                                 Traceback (most recent call last)",
      "\u001b[0;32m<ipython-input-1-534debef3686>\u001b[0m in \u001b[0;36m<module>\u001b[0;34m\u001b[0m\n\u001b[1;32m      1\u001b[0m \u001b[0;31m# Mauvais exemple :\u001b[0m\u001b[0;34m\u001b[0m\u001b[0;34m\u001b[0m\u001b[0;34m\u001b[0m\u001b[0m\n\u001b[1;32m      2\u001b[0m \u001b[0;34m\u001b[0m\u001b[0m\n\u001b[0;32m----> 3\u001b[0;31m \u001b[0mtaux_de_conversion1\u001b[0m \u001b[0;34m=\u001b[0m \u001b[0mpremiere_campagne\u001b[0m\u001b[0;34m[\u001b[0m\u001b[0;34m'visiteurs'\u001b[0m\u001b[0;34m]\u001b[0m \u001b[0;34m/\u001b[0m \u001b[0mpremiere_campagne\u001b[0m\u001b[0;34m[\u001b[0m\u001b[0;34m'conversions'\u001b[0m\u001b[0;34m]\u001b[0m\u001b[0;34m\u001b[0m\u001b[0;34m\u001b[0m\u001b[0m\n\u001b[0m\u001b[1;32m      4\u001b[0m \u001b[0mtaux_de_conversion2\u001b[0m \u001b[0;34m=\u001b[0m \u001b[0mseconde_campagne\u001b[0m\u001b[0;34m[\u001b[0m\u001b[0;34m'visiteurs'\u001b[0m\u001b[0;34m]\u001b[0m \u001b[0;34m/\u001b[0m \u001b[0mseconde_campagne\u001b[0m\u001b[0;34m[\u001b[0m\u001b[0;34m'conversions'\u001b[0m\u001b[0;34m]\u001b[0m\u001b[0;34m\u001b[0m\u001b[0;34m\u001b[0m\u001b[0m\n\u001b[1;32m      5\u001b[0m \u001b[0mtaux_de_conversion3\u001b[0m \u001b[0;34m=\u001b[0m \u001b[0mtroisieme_campagne\u001b[0m\u001b[0;34m[\u001b[0m\u001b[0;34m'visiteurs'\u001b[0m\u001b[0;34m]\u001b[0m \u001b[0;34m/\u001b[0m \u001b[0mtroisieme_campagne\u001b[0m\u001b[0;34m[\u001b[0m\u001b[0;34m'conversions'\u001b[0m\u001b[0;34m]\u001b[0m\u001b[0;34m\u001b[0m\u001b[0;34m\u001b[0m\u001b[0m\n",
      "\u001b[0;31mNameError\u001b[0m: name 'premiere_campagne' is not defined"
     ]
    }
   ],
   "source": [
    "# Mauvais exemple : \n",
    "\n",
    "taux_de_conversion1 = premiere_campagne['visiteurs'] / premiere_campagne['conversions']\n",
    "taux_de_conversion2 = seconde_campagne['visiteurs'] / seconde_campagne['conversions']\n",
    "taux_de_conversion3 = troisieme_campagne['visiteurs'] / troisieme_campagne['conversions']"
   ]
  },
  {
   "cell_type": "code",
   "execution_count": null,
   "metadata": {},
   "outputs": [],
   "source": [
    "# Bon \n",
    "\n",
    "def calculer_taux_de_conversion(campagne):\n",
    "    taux_de_conversion = campagne['visiteurs'] / campagne['conversions']\n",
    "    return taux_de_conversion\n",
    "\n",
    "calculer_taux_de_conversion(premiere_campagne)\n",
    "calculer_taux_de_conversion(seconde_campagne)\n",
    "calculer_taux_de_conversion(troisieme_campagne)"
   ]
  },
  {
   "cell_type": "markdown",
   "metadata": {},
   "source": [
    "## Principe de responsabilité unique \n",
    "\n",
    "Chaque fonction doit être responsable d'une seule et unique fonctionnalité,et rien de plus. \n",
    "\n",
    "Plutôt que de créer une seule fonction : `calculer_taux_conversion_sauvegarder_csv()`, il vaut mieux créer deux fonctions : \n",
    "- `calculer_taux_conversion()` et \n",
    "- `sauvegarder_csv()`\n",
    "\n",
    "Cela permet de séparer les responsabilités, de définir des nom plus descriptifs par fonction, de debugger plus facilement, et de mieux comprendre le code. "
   ]
  },
  {
   "cell_type": "markdown",
   "metadata": {},
   "source": [
    "## Commenter le code \n",
    "\n",
    "Le code doit être suffisamment lisible pour ne pas avoir à trop le commenter. Il est cependant utile de commenter le code, pour avoir une meilleure comprehension, ou pour rappel. \n",
    "\n",
    "Garder les commentaires à jour lorsque le code change. "
   ]
  },
  {
   "cell_type": "code",
   "execution_count": null,
   "metadata": {},
   "outputs": [],
   "source": [
    "# Commentaire sur une ligne \n",
    "\n",
    "\"\"\"\n",
    "Commentaires sur plusieurs lignes, \n",
    "\n",
    "Permet de decrire plus en details une fonction\n",
    "\"\"\""
   ]
  },
  {
   "cell_type": "markdown",
   "metadata": {},
   "source": [
    "## Respecter les standard du code \n",
    "\n",
    "Guide de style par langage. Le python suit la PEP 8. Les philosophie dérrière se trouve dans le document appelé PEP 20 : Les preceptes du \"Zen du Python\" "
   ]
  }
 ],
 "metadata": {
  "kernelspec": {
   "display_name": "Python 3.8.13 64-bit",
   "language": "python",
   "name": "python3"
  },
  "language_info": {
   "codemirror_mode": {
    "name": "ipython",
    "version": 3
   },
   "file_extension": ".py",
   "mimetype": "text/x-python",
   "name": "python",
   "nbconvert_exporter": "python",
   "pygments_lexer": "ipython3",
   "version": "3.8.13"
  },
  "orig_nbformat": 4,
  "vscode": {
   "interpreter": {
    "hash": "7e85ec9bf098c5427e45e2f632dcd4eeff803b007e1abd287d600879388709c1"
   }
  }
 },
 "nbformat": 4,
 "nbformat_minor": 2
}
