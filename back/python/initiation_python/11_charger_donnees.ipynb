{
 "cells": [
  {
   "cell_type": "markdown",
   "metadata": {},
   "source": [
    "# Charger des données \n",
    "\n",
    "On peut utiliser et lire des données depuis plusierus endroits, y compris les bases de données et les fichiers. Deux types de fichiers sont souvent utilisés, le .txt  et le .csv. On peut importer et exporter les fichiers avec les fonctionnalité intégrée de Python ou avec le package CSV. \n",
    "\n",
    "Pour lire et ecrire dans un fichier on peut utiliser la fonction intégrée `open()` qui prend deux param : \n",
    "- le nom du fichier \n",
    "- le mode (r, w, a, r+ )\n",
    "\n",
    "r: lire \n",
    "w: ecrire (écrase)\n",
    "a: Continuer d'écrire\n",
    "r+ Lire et écrire (écraser)"
   ]
  },
  {
   "cell_type": "code",
   "execution_count": 1,
   "metadata": {},
   "outputs": [],
   "source": [
    "fichier = open(\"file.txt\", \"w\")\n",
    "fichier.write(\"Hello, world!\")\n",
    "fichier.close()"
   ]
  },
  {
   "cell_type": "markdown",
   "metadata": {},
   "source": [
    "On peut aussi utiliser l'instruction `with`pour close automatiquement le fichier à la fin du bloc: \n",
    "\n",
    "Le mode par défaut est \"r\""
   ]
  },
  {
   "cell_type": "code",
   "execution_count": 2,
   "metadata": {},
   "outputs": [
    {
     "name": "stdout",
     "output_type": "stream",
     "text": [
      "Hello, world!\n"
     ]
    }
   ],
   "source": [
    "with open(\"file.txt\") as fichier:\n",
    "  for ligne in fichier:\n",
    "    print(ligne)"
   ]
  },
  {
   "cell_type": "code",
   "execution_count": 10,
   "metadata": {},
   "outputs": [
    {
     "name": "stdout",
     "output_type": "stream",
     "text": [
      "['nom', 'metier', 'couleur_preferee']\n",
      "['Jacob Smith', 'Ingénieur en informatique', 'Violet']\n",
      "['Nora Scheffer', 'Stratégiste numérique', 'Bleu']\n",
      "['Emily Adams', 'Responsable marketing', 'Orange']\n"
     ]
    }
   ],
   "source": [
    "import csv\n",
    "\n",
    "with open('couleurs_preferees.csv') as fichier_csv:\n",
    "   reader = csv.reader(fichier_csv, delimiter=',')\n",
    "   for ligne in reader:\n",
    "      print(ligne)"
   ]
  },
  {
   "cell_type": "code",
   "execution_count": 9,
   "metadata": {},
   "outputs": [
    {
     "name": "stdout",
     "output_type": "stream",
     "text": [
      "Jacob Smith travaille en tant que Ingénieur en informatique et sa couleur préférée est Violet\n",
      "Nora Scheffer travaille en tant que Stratégiste numérique et sa couleur préférée est Bleu\n",
      "Emily Adams travaille en tant que Responsable marketing et sa couleur préférée est Orange\n"
     ]
    }
   ],
   "source": [
    "import csv\n",
    "\n",
    "with open('couleurs_preferees.csv') as fichier_csv:\n",
    "   reader = csv.DictReader(fichier_csv, delimiter=',')\n",
    "   for ligne in reader:\n",
    "      print(ligne['nom'] + \" travaille en tant que \" + ligne['metier'] + \" et sa couleur préférée est \" + ligne['couleur_preferee'])"
   ]
  },
  {
   "cell_type": "code",
   "execution_count": 11,
   "metadata": {},
   "outputs": [
    {
     "ename": "NameError",
     "evalue": "name 'titres' is not defined",
     "output_type": "error",
     "traceback": [
      "\u001b[0;31m---------------------------------------------------------------------------\u001b[0m",
      "\u001b[0;31mNameError\u001b[0m                                 Traceback (most recent call last)",
      "\u001b[0;32m<ipython-input-11-9ec86a2278db>\u001b[0m in \u001b[0;36m<module>\u001b[0;34m\u001b[0m\n\u001b[1;32m      8\u001b[0m    \u001b[0mwriter\u001b[0m\u001b[0;34m.\u001b[0m\u001b[0mwriterow\u001b[0m\u001b[0;34m(\u001b[0m\u001b[0men_tete\u001b[0m\u001b[0;34m)\u001b[0m\u001b[0;34m\u001b[0m\u001b[0;34m\u001b[0m\u001b[0m\n\u001b[1;32m      9\u001b[0m    \u001b[0;31m# Parcourir les titres et descriptions - zip permet d'itérer sur deux listes ou plus à la fois\u001b[0m\u001b[0;34m\u001b[0m\u001b[0;34m\u001b[0m\u001b[0;34m\u001b[0m\u001b[0m\n\u001b[0;32m---> 10\u001b[0;31m    \u001b[0;32mfor\u001b[0m \u001b[0mtitre\u001b[0m\u001b[0;34m,\u001b[0m \u001b[0mdescription\u001b[0m \u001b[0;32min\u001b[0m \u001b[0mzip\u001b[0m\u001b[0;34m(\u001b[0m\u001b[0mtitres\u001b[0m\u001b[0;34m,\u001b[0m \u001b[0mdescriptions\u001b[0m\u001b[0;34m)\u001b[0m\u001b[0;34m:\u001b[0m\u001b[0;34m\u001b[0m\u001b[0;34m\u001b[0m\u001b[0m\n\u001b[0m\u001b[1;32m     11\u001b[0m       \u001b[0;31m# Créer une nouvelle ligne avec le titre et la description à ce moment de la boucle\u001b[0m\u001b[0;34m\u001b[0m\u001b[0;34m\u001b[0m\u001b[0;34m\u001b[0m\u001b[0m\n\u001b[1;32m     12\u001b[0m       \u001b[0mligne\u001b[0m \u001b[0;34m=\u001b[0m \u001b[0;34m[\u001b[0m\u001b[0mtitre\u001b[0m\u001b[0;34m,\u001b[0m \u001b[0mdescription\u001b[0m\u001b[0;34m]\u001b[0m\u001b[0;34m\u001b[0m\u001b[0;34m\u001b[0m\u001b[0m\n",
      "\u001b[0;31mNameError\u001b[0m: name 'titres' is not defined"
     ]
    }
   ],
   "source": [
    "# # Créer une liste pour les en-têtes\n",
    "# en_tete = [\"titre\", \"description\"]\n",
    "\n",
    "# # Créer un nouveau fichier pour écrire dans le fichier appelé « data.csv »\n",
    "# with open('data2.csv', 'w') as fichier_csv:\n",
    "#    # Créer un objet writer (écriture) avec ce fichier\n",
    "#    writer = csv.writer(fichier_csv, delimiter=',')\n",
    "#    writer.writerow(en_tete)\n",
    "#    # Parcourir les titres et descriptions - zip permet d'itérer sur deux listes ou plus à la fois\n",
    "#    for titre, description in zip(titres, descriptions):\n",
    "#       # Créer une nouvelle ligne avec le titre et la description à ce moment de la boucle\n",
    "#       ligne = [titre, description]\n",
    "#       writer.writerow(ligne)\n"
   ]
  }
 ],
 "metadata": {
  "kernelspec": {
   "display_name": "Python 3.8.13 64-bit",
   "language": "python",
   "name": "python3"
  },
  "language_info": {
   "codemirror_mode": {
    "name": "ipython",
    "version": 3
   },
   "file_extension": ".py",
   "mimetype": "text/x-python",
   "name": "python",
   "nbconvert_exporter": "python",
   "pygments_lexer": "ipython3",
   "version": "3.8.13"
  },
  "orig_nbformat": 4,
  "vscode": {
   "interpreter": {
    "hash": "7e85ec9bf098c5427e45e2f632dcd4eeff803b007e1abd287d600879388709c1"
   }
  }
 },
 "nbformat": 4,
 "nbformat_minor": 2
}
