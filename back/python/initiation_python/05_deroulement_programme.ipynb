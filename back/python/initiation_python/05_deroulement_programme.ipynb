{
 "cells": [
  {
   "cell_type": "markdown",
   "metadata": {},
   "source": [
    "# Déroulement d'un programme \n",
    "\n",
    "C'est l'ordre dans lequel sera executé votre code. Certaine ligne de code vont s'éxecuter une seule fois, d'autre plusieurs fois, et d'autre encore seront complémetemnt ignoré, tout dépend de comment on a ecrit le code. \n",
    "\n",
    "## Les instructions conditionnelles \n",
    "\n",
    "Un moyen de contrôler la logique de le déroulementavec des conditions. \n",
    "\n",
    "On peut donc executer certaine ligne de code uniquement si certaine condition sont vrais :"
   ]
  },
  {
   "cell_type": "code",
   "execution_count": 5,
   "metadata": {},
   "outputs": [
    {
     "name": "stdout",
     "output_type": "stream",
     "text": [
      "On va skier\n"
     ]
    }
   ],
   "source": [
    "ensoleille = False\n",
    "neige = True\n",
    "if ensoleille:\n",
    "  print(\"on va à la plage!\")\n",
    "elif neige :\n",
    "  print(\"On va skier\")\n",
    "else :\n",
    "  print(\"on reste au coin du feu!\")"
   ]
  },
  {
   "cell_type": "markdown",
   "metadata": {},
   "source": [
    "## Définir des condition multiples avec des opérateurs logiques : \n",
    "\n",
    "- `and` : verifie si deux conditions sont toutes les deux vrais \n",
    "\n",
    "- `or`: vérifie si au moins une condition est vraie \n",
    "\n",
    "- `not`: vérifie si une condition n'est pas vraie"
   ]
  },
  {
   "cell_type": "code",
   "execution_count": 6,
   "metadata": {},
   "outputs": [
    {
     "name": "stdout",
     "output_type": "stream",
     "text": [
      "on va à la plage\n"
     ]
    }
   ],
   "source": [
    "avec_soleil = True\n",
    "en_semaine = False\n",
    "\n",
    "if avec_soleil and not en_semaine:\n",
    "  print(\"on va à la plage\")\n",
    "elif avec_soleil and en_semaine:\n",
    "  print(\"on va au travail\")\n",
    "else:\n",
    "  print(\"on reste à la maison\")"
   ]
  },
  {
   "cell_type": "markdown",
   "metadata": {},
   "source": [
    "## Définir des conditions complexes avec des expressions comparatives \n",
    "\n",
    "Permettent de comparer des expressions ou valeurs : \n",
    "\n",
    "On veut comparer `a` et `b` : \n",
    "\n",
    "- a == b\n",
    "- a != b\n",
    "- a < b\n",
    "- a <= b\n",
    "- a > b \n",
    "- a >= b\n",
    "\n"
   ]
  },
  {
   "cell_type": "code",
   "execution_count": 7,
   "metadata": {},
   "outputs": [
    {
     "name": "stdout",
     "output_type": "stream",
     "text": [
      "autoriser plus d’invités\n"
     ]
    }
   ],
   "source": [
    "nombre_de_sieges = 30\n",
    "nombre_dinvites = 25\n",
    "\n",
    "if nombre_dinvites < nombre_de_sieges:\n",
    "   print('autoriser plus d’invités')\n",
    "else: \n",
    "   print('ne pas autoriser plus d’invités')"
   ]
  }
 ],
 "metadata": {
  "kernelspec": {
   "display_name": "Python 3.8.13 64-bit",
   "language": "python",
   "name": "python3"
  },
  "language_info": {
   "codemirror_mode": {
    "name": "ipython",
    "version": 3
   },
   "file_extension": ".py",
   "mimetype": "text/x-python",
   "name": "python",
   "nbconvert_exporter": "python",
   "pygments_lexer": "ipython3",
   "version": "3.8.13"
  },
  "orig_nbformat": 4,
  "vscode": {
   "interpreter": {
    "hash": "7e85ec9bf098c5427e45e2f632dcd4eeff803b007e1abd287d600879388709c1"
   }
  }
 },
 "nbformat": 4,
 "nbformat_minor": 2
}
