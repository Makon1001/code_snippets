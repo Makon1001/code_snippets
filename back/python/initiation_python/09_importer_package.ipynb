{
 "cells": [
  {
   "cell_type": "markdown",
   "metadata": {},
   "source": [
    "# Importer des packages python\n",
    "\n",
    "Un package est une collection de fonctions qui peuvent être ajoutées au code python et appelée au besoin, comme n'importe quelle autre fonction. \n",
    "\n",
    "Permet d'importer des fonctions préexistante et étendre efficacement les fonctionnalités du code. \n",
    "\n",
    "Exemple de packages : \n",
    "\n",
    "- `Requests`: un package HTTP, pour les appels d'interface REST\n",
    "\n",
    "- `Beautiful Soup` : pour récuperer des données de fichiers HTML ou XML\n",
    "\n",
    "- `Pandas` : pour analyser et manipuler des données"
   ]
  },
  {
   "cell_type": "markdown",
   "metadata": {},
   "source": [
    "## Utiliser un gestionnaire de package \n",
    "\n",
    "Ce gestionnaire permet d'installer et de gérer les package python. Avec python on utilise le gestionnaire `pip`\n",
    "\n",
    "`pip install <nom_de_package>`est la commande à réaliser pour installer un nouveau package \n",
    "\n",
    "`pip freeze` permet de voir les package déjà installés\n",
    "\n",
    "Pour importer un package entier : `import requests`\n",
    "\n",
    "On peut ensuite utiliser la fonction get avec `request.get()`\n",
    "\n",
    "Si on veut importer que la fonction `get()` on peut aussi faire \n",
    "\n",
    "`from request import get`  : maintenant plus besion d'écrire request devant la fonction get(). \n"
   ]
  }
 ],
 "metadata": {
  "language_info": {
   "name": "python"
  },
  "orig_nbformat": 4
 },
 "nbformat": 4,
 "nbformat_minor": 2
}
